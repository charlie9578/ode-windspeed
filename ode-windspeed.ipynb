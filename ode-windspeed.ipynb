{
 "cells": [
  {
   "cell_type": "markdown",
   "metadata": {},
   "source": [
    "# ODE - turbine wind speed predictor"
   ]
  },
  {
   "cell_type": "markdown",
   "metadata": {},
   "source": [
    "https://charlies-organization-9.gitbook.io/charlies-organization/v/wedowind-open-data-exploration/challenges/images-and-media\n",
    "\n",
    "https://app.gitbook.com/o/WlpzH68zwmW5fTMYLtJp/s/L1RZyE8JUkAQQmXGYjqX/charlies-attempt-s"
   ]
  },
  {
   "cell_type": "markdown",
   "metadata": {},
   "source": [
    "The first step is to use the data from January to create some wind speed prediction models.\n",
    "\n",
    "We can then use the February data to make the predictions for the challenge for comparison with others.\n"
   ]
  },
  {
   "cell_type": "code",
   "execution_count": 1,
   "metadata": {},
   "outputs": [],
   "source": [
    "import pandas as pd\n",
    "import matplotlib.pyplot as plt \n",
    "import numpy as np\n",
    "from sklearn import linear_model "
   ]
  },
  {
   "cell_type": "code",
   "execution_count": 2,
   "metadata": {},
   "outputs": [],
   "source": [
    "scada = pd.read_excel(\"January.xlsx\",sheet_name=\"January\", header=[0, 1],index_col=[0])\n",
    "\n",
    "scada_nogaps = scada.dropna()\n",
    "\n",
    "windspeed_predictions = None\n",
    "result_statistics = None"
   ]
  },
  {
   "cell_type": "markdown",
   "metadata": {},
   "source": [
    "## Straight average (mean)\n",
    "Taking a straight average (mean) of the wind speed at the other turbines to predict the wind speed at the target turbine."
   ]
  },
  {
   "cell_type": "code",
   "execution_count": 3,
   "metadata": {},
   "outputs": [
    {
     "name": "stdout",
     "output_type": "stream",
     "text": [
      "0.8096136869105809 0.5849670873851651 0.03691628609048692\n"
     ]
    }
   ],
   "source": [
    "method_mean = scada[\"Wind speed (m/s)\"].drop(columns=[\"Kelmarsh 1\"]).mean(axis=1)\n",
    "method_mean.to_csv(\"method_mean.csv\")\n",
    "\n",
    "rms = np.sqrt(np.mean((scada[\"Wind speed (m/s)\"][\"Kelmarsh 1\"] - method_mean)**2))\n",
    "mae = np.mean(abs(scada[\"Wind speed (m/s)\"][\"Kelmarsh 1\"] - method_mean))\n",
    "bias = np.mean(scada[\"Wind speed (m/s)\"][\"Kelmarsh 1\"] - method_mean)\n",
    "\n",
    "print(rms, mae, bias)\n",
    "\n",
    "windspeed_predictions = method_mean\n",
    "windspeed_predictions.name = \"mean\"\n",
    "windspeed_predictions = pd.DataFrame(windspeed_predictions)"
   ]
  },
  {
   "cell_type": "markdown",
   "metadata": {},
   "source": [
    "## Straight average (median)\n",
    "Taking a straight average (median) of the wind speed at the other turbines to predict the wind speed at the target turbine."
   ]
  },
  {
   "cell_type": "code",
   "execution_count": 4,
   "metadata": {},
   "outputs": [
    {
     "name": "stdout",
     "output_type": "stream",
     "text": [
      "0.849889805479719 0.5889206010334975 -0.05393827287710014\n"
     ]
    }
   ],
   "source": [
    "method_median = scada[\"Wind speed (m/s)\"].drop(columns=[\"Kelmarsh 1\"]).median(axis=1)\n",
    "method_median.to_csv(\"method_median.csv\")\n",
    "\n",
    "rms = np.sqrt(np.mean((scada[\"Wind speed (m/s)\"][\"Kelmarsh 1\"] - method_median)**2))\n",
    "mae = np.mean(abs(scada[\"Wind speed (m/s)\"][\"Kelmarsh 1\"] - method_median))\n",
    "bias = np.mean(scada[\"Wind speed (m/s)\"][\"Kelmarsh 1\"] - method_median)\n",
    "\n",
    "print(rms, mae, bias)\n",
    "\n",
    "windspeed_predictions[\"median\"] = method_median"
   ]
  },
  {
   "cell_type": "markdown",
   "metadata": {},
   "source": [
    "## Max of other turbines\n",
    "Taking the max wind speed from the other turbines to predict the wind speed at the target turbine."
   ]
  },
  {
   "cell_type": "code",
   "execution_count": 5,
   "metadata": {},
   "outputs": [
    {
     "name": "stdout",
     "output_type": "stream",
     "text": [
      "1.0403927641643507 0.781155356869386 -0.7463764114883302\n"
     ]
    }
   ],
   "source": [
    "method_max = scada[\"Wind speed (m/s)\"].drop(columns=[\"Kelmarsh 1\"]).max(axis=1)\n",
    "method_max.to_csv(\"method_max.csv\")\n",
    "\n",
    "rms = np.sqrt(np.mean((scada[\"Wind speed (m/s)\"][\"Kelmarsh 1\"] - method_max)**2))\n",
    "mae = np.mean(abs(scada[\"Wind speed (m/s)\"][\"Kelmarsh 1\"] - method_max))\n",
    "bias = np.mean(scada[\"Wind speed (m/s)\"][\"Kelmarsh 1\"] - method_max)\n",
    "\n",
    "print(rms, mae, bias)\n",
    "\n",
    "windspeed_predictions[\"max\"] = method_max"
   ]
  },
  {
   "cell_type": "markdown",
   "metadata": {},
   "source": [
    "## Polynomial fit with neighbouring turbine's wind speed\n",
    "Predicting the wind speed through fitting a polynomial between the wind speed at the target turbine and a neighbouring wind turbine"
   ]
  },
  {
   "cell_type": "code",
   "execution_count": 6,
   "metadata": {},
   "outputs": [
    {
     "name": "stdout",
     "output_type": "stream",
     "text": [
      "0.7785792035039318 0.5653278252056716 0.00038281698381861725\n"
     ]
    }
   ],
   "source": [
    "mymodel = np.poly1d(np.polyfit(scada_nogaps[\"Wind speed (m/s)\"][\"Kelmarsh 2\"] , scada_nogaps[\"Wind speed (m/s)\"][\"Kelmarsh 1\"] , 4))\n",
    "method_poly = mymodel(scada[\"Wind speed (m/s)\"][\"Kelmarsh 2\"])\n",
    "method_poly = pd.Series(method_poly,index=scada.index)\n",
    "method_poly.to_csv(\"method_poly.csv\")\n",
    "\n",
    "rms = np.sqrt(np.mean((scada[\"Wind speed (m/s)\"][\"Kelmarsh 1\"] - method_poly)**2))\n",
    "mae = np.mean(abs(scada[\"Wind speed (m/s)\"][\"Kelmarsh 1\"] - method_poly))\n",
    "bias = np.mean(scada[\"Wind speed (m/s)\"][\"Kelmarsh 1\"] - method_poly)\n",
    "\n",
    "print(rms, mae, bias)  \n",
    "\n",
    "windspeed_predictions[\"poly\"] = method_poly"
   ]
  },
  {
   "cell_type": "markdown",
   "metadata": {},
   "source": [
    "## Multiple linear regression using wind speed\n",
    "Utilising the wind speed from all remaining turbines to run a multilinear fit to predict the wind speed at the target turbine."
   ]
  },
  {
   "cell_type": "code",
   "execution_count": 7,
   "metadata": {},
   "outputs": [
    {
     "name": "stdout",
     "output_type": "stream",
     "text": [
      "0.7336880532242803 0.5212941849162054 -7.028750083957825e-16\n"
     ]
    }
   ],
   "source": [
    "X = scada_nogaps[\"Wind speed (m/s)\"].drop(columns=[\"Kelmarsh 1\"])\n",
    "y = scada_nogaps[\"Wind speed (m/s)\"][\"Kelmarsh 1\"]\n",
    "\n",
    "regr = linear_model.LinearRegression()\n",
    "regr.fit(X, y) \n",
    "\n",
    "method_multilinearWS = regr.predict(scada_nogaps[\"Wind speed (m/s)\"].drop(columns=[\"Kelmarsh 1\"]))\n",
    "method_multilinearWS = pd.Series(method_multilinearWS,index=scada_nogaps.index)\n",
    "method_multilinearWS = method_multilinearWS.reindex(scada.index)\n",
    "method_multilinearWS.to_csv(\"method_multilinearWS.csv\")\n",
    "\n",
    "rms = np.sqrt(np.mean((scada[\"Wind speed (m/s)\"][\"Kelmarsh 1\"] - method_multilinearWS)**2))\n",
    "mae = np.mean(abs(scada[\"Wind speed (m/s)\"][\"Kelmarsh 1\"] - method_multilinearWS))\n",
    "bias = np.mean(scada[\"Wind speed (m/s)\"][\"Kelmarsh 1\"] - method_multilinearWS)\n",
    "\n",
    "print(rms, mae, bias)\n",
    "\n",
    "windspeed_predictions[\"multilinearWS\"] = method_multilinearWS"
   ]
  },
  {
   "cell_type": "markdown",
   "metadata": {},
   "source": [
    "## Multiple linear regression using all variables\n",
    "Utilising the variables from all remaining turbines to run a multilinear fit to predict the wind speed at the target turbine."
   ]
  },
  {
   "cell_type": "code",
   "execution_count": 8,
   "metadata": {},
   "outputs": [
    {
     "name": "stdout",
     "output_type": "stream",
     "text": [
      "0.7198744571877352 0.5078898355781948 -2.3003182092952884e-16\n"
     ]
    }
   ],
   "source": [
    "column_names = [' '.join(words) for words in scada_nogaps.drop(columns=\"Kelmarsh 1\",level=1).columns]\n",
    "X = scada_nogaps.drop(columns=\"Kelmarsh 1\",level=1)\n",
    "X.columns=column_names\n",
    "\n",
    "y = scada_nogaps[\"Wind speed (m/s)\"][\"Kelmarsh 1\"]\n",
    "\n",
    "regr = linear_model.LinearRegression()\n",
    "regr.fit(X, y)\n",
    "\n",
    "method_multilinear = regr.predict(X)\n",
    "method_multilinear = pd.Series(method_multilinear,index=scada_nogaps.index)\n",
    "method_multilinear = method_multilinear.reindex(scada.index)\n",
    "method_multilinear.to_csv(\"method_multilinear.csv\")\n",
    "\n",
    "rms = np.sqrt(np.mean((scada[\"Wind speed (m/s)\"][\"Kelmarsh 1\"] - method_multilinear)**2))\n",
    "mae = np.mean(abs(scada[\"Wind speed (m/s)\"][\"Kelmarsh 1\"] - method_multilinear))\n",
    "bias = np.mean(scada[\"Wind speed (m/s)\"][\"Kelmarsh 1\"] - method_multilinear)\n",
    "\n",
    "print(rms, mae, bias)\n",
    "\n",
    "windspeed_predictions[\"multilinear\"] = method_multilinear"
   ]
  },
  {
   "cell_type": "markdown",
   "metadata": {},
   "source": [
    "# Results"
   ]
  },
  {
   "cell_type": "code",
   "execution_count": 9,
   "metadata": {},
   "outputs": [
    {
     "name": "stdout",
     "output_type": "stream",
     "text": [
      "                    RMS       MAE          bias\n",
      "mean           0.809614  0.584967 -3.691629e-02\n",
      "median         0.849890  0.588921  5.393827e-02\n",
      "max            1.040393  0.781155  7.463764e-01\n",
      "poly           0.778579  0.565328 -3.828170e-04\n",
      "multilinearWS  0.733688  0.521294  7.028750e-16\n",
      "multilinear    0.719874  0.507890  2.300318e-16\n"
     ]
    }
   ],
   "source": [
    "windspeed_predictions.to_csv(\"all_methods.csv\")\n",
    "\n",
    "rms = np.sqrt(np.mean((windspeed_predictions.sub(scada[\"Wind speed (m/s)\"][\"Kelmarsh 1\"],axis=0))**2,axis=0))\n",
    "mae = np.mean(abs(windspeed_predictions.sub(scada[\"Wind speed (m/s)\"][\"Kelmarsh 1\"],axis=0)),axis=0)\n",
    "bias = np.mean(windspeed_predictions.sub(scada[\"Wind speed (m/s)\"][\"Kelmarsh 1\"],axis=0),axis=0)\n",
    "\n",
    "print(pd.DataFrame.from_dict({\"RMS\":rms,\"MAE\":mae, \"bias\":bias}))"
   ]
  }
 ],
 "metadata": {
  "kernelspec": {
   "display_name": ".venv",
   "language": "python",
   "name": "python3"
  },
  "language_info": {
   "codemirror_mode": {
    "name": "ipython",
    "version": 3
   },
   "file_extension": ".py",
   "mimetype": "text/x-python",
   "name": "python",
   "nbconvert_exporter": "python",
   "pygments_lexer": "ipython3",
   "version": "3.12.2"
  }
 },
 "nbformat": 4,
 "nbformat_minor": 2
}
